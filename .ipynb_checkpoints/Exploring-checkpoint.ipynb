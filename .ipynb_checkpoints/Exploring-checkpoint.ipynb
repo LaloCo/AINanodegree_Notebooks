{
 "cells": [
  {
   "cell_type": "markdown",
   "metadata": {},
   "source": [
    "You can run Python 3 code right away"
   ]
  },
  {
   "cell_type": "code",
   "execution_count": 3,
   "metadata": {},
   "outputs": [
    {
     "name": "stdout",
     "output_type": "stream",
     "text": [
      "Hello world!\n",
      "This is awesome!\n"
     ]
    }
   ],
   "source": [
    "print('Hello world!')\n",
    "\n",
    "print('This is awesome!')"
   ]
  },
  {
   "cell_type": "markdown",
   "metadata": {},
   "source": [
    "# You can add Headers\n",
    "## With different formats\n",
    "### Practically infinite"
   ]
  },
  {
   "cell_type": "markdown",
   "metadata": {},
   "source": [
    "You can easily add links to anywhere you want, [like my personal blog](http://lalorosas.com), and of course _do cursive_ and **do bold** quite easily."
   ]
  },
  {
   "cell_type": "markdown",
   "metadata": {},
   "source": [
    "Even add in-line code: `print(\"By adding backticks\")`\n",
    "Or\n",
    "\n",
    "    print(\"By indenting each line with four spaces\") #Which is not working right now D:\n",
    "    # Ah, it needed to be in a new line, so there is an empty line separating from previos text\n",
    "    \n",
    "Or\n",
    "```\n",
    "print(\"Wraping everything in 3 backticks\")\n",
    "```"
   ]
  },
  {
   "cell_type": "markdown",
   "metadata": {},
   "source": [
    "## Math"
   ]
  },
  {
   "cell_type": "markdown",
   "metadata": {},
   "source": [
    "You can even create math expresions! Inline you just need dollar signs $y = mx + b$"
   ]
  },
  {
   "cell_type": "markdown",
   "metadata": {},
   "source": [
    "Or you can create a math block with two dollar signs:\n",
    "$$\n",
    "y = \\frac{a}{b+c}\n",
    "$$"
   ]
  },
  {
   "cell_type": "markdown",
   "metadata": {},
   "source": [
    "All of this is LaTeX code, so [here is a useful resource](https://www.latex-tutorial.com/tutorials/amsmath/) if you want to learn more about the expressions that you can use."
   ]
  },
  {
   "cell_type": "markdown",
   "metadata": {},
   "source": [
    "Which are very powerful:\n",
    "$$\n",
    "F(x) = \\int^a_b \\frac{1}{3}x^3\n",
    "$$"
   ]
  },
  {
   "cell_type": "markdown",
   "metadata": {},
   "source": [
    "Check this $\\LaTeX$ math markdown here for instance:\n",
    "$$\n",
    "e^x = \\sum_{n=0}^{\\infty}\\frac{x^n}{x!}\n",
    "$$"
   ]
  },
  {
   "cell_type": "code",
   "execution_count": null,
   "metadata": {},
   "outputs": [],
   "source": []
  }
 ],
 "metadata": {
  "kernelspec": {
   "display_name": "Python 3",
   "language": "python",
   "name": "python3"
  },
  "language_info": {
   "codemirror_mode": {
    "name": "ipython",
    "version": 3
   },
   "file_extension": ".py",
   "mimetype": "text/x-python",
   "name": "python",
   "nbconvert_exporter": "python",
   "pygments_lexer": "ipython3",
   "version": "3.6.7"
  }
 },
 "nbformat": 4,
 "nbformat_minor": 2
}
